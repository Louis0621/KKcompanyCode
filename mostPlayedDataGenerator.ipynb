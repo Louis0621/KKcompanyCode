{
 "cells": [
  {
   "cell_type": "code",
   "execution_count": 1,
   "metadata": {},
   "outputs": [],
   "source": [
    "import pandas as pd\n",
    "\n",
    "\n",
    "train_df = pd.read_parquet('./datagame-2023/label_train_source.parquet')\n",
    "test_df = pd.read_parquet('./datagame-2023/label_test_source.parquet')"
   ]
  },
  {
   "cell_type": "code",
   "execution_count": 2,
   "metadata": {},
   "outputs": [],
   "source": [
    "reserve = pd.concat([train_df, test_df], axis=0)"
   ]
  },
  {
   "cell_type": "code",
   "execution_count": 3,
   "metadata": {},
   "outputs": [],
   "source": [
    "sample_df = pd.read_csv(\"./datagame-2023/sample.csv\")\n",
    "sample_id = sample_df[['session_id']]"
   ]
  },
  {
   "cell_type": "markdown",
   "metadata": {},
   "source": [
    "# Excluded"
   ]
  },
  {
   "cell_type": "code",
   "execution_count": 4,
   "metadata": {},
   "outputs": [],
   "source": [
    "same_df = pd.read_csv('./same_df.csv')\n",
    "excluded_df = same_df[same_df.iloc[:, 1:].isna().any(axis=1)]\n",
    "same_df = same_df[same_df.iloc[:, 1:].notna().any(axis=1)]\n",
    "excluded_id  = excluded_df[['session_id']]"
   ]
  },
  {
   "cell_type": "markdown",
   "metadata": {},
   "source": [
    "# Most Played"
   ]
  },
  {
   "cell_type": "code",
   "execution_count": 5,
   "metadata": {},
   "outputs": [],
   "source": [
    "reserve_songs = train_df['song_id'].value_counts()"
   ]
  },
  {
   "cell_type": "code",
   "execution_count": 6,
   "metadata": {},
   "outputs": [],
   "source": [
    "most_played_df = pd.read_csv(\"./Top5_excluded_test_datasets.csv\")\n",
    "mask = (most_played_df['variety'] == 20)\n",
    "excluded_20 = most_played_df[mask]\n",
    "most_played_df = most_played_df[~mask]\n",
    "excluded_20_id = excluded_20[['session_id']]"
   ]
  },
  {
   "cell_type": "code",
   "execution_count": 7,
   "metadata": {},
   "outputs": [],
   "source": [
    "mostPlayed_combined = pd.concat([most_played_df['session_id'], most_played_df.iloc[:, 6:].drop(\"variety\", axis=1)], axis=1)\n",
    "mostPlayed_combined.columns = sample_df.columns"
   ]
  },
  {
   "cell_type": "code",
   "execution_count": 8,
   "metadata": {},
   "outputs": [],
   "source": [
    "mostPlayed_combined.reset_index(drop=True, inplace=True)\n",
    "idx = 0\n",
    "for col_idx, column in mostPlayed_combined.drop(\"session_id\", axis=1).items():\n",
    "    for row_idx, value in enumerate(column):\n",
    "        if pd.isna(value):\n",
    "            mostPlayed_combined.loc[row_idx, col_idx] = reserve_songs.keys()[idx]\n",
    "            idx += 1\n"
   ]
  },
  {
   "cell_type": "markdown",
   "metadata": {},
   "source": [
    "# Convert"
   ]
  },
  {
   "cell_type": "code",
   "execution_count": 9,
   "metadata": {},
   "outputs": [],
   "source": [
    "def convert(df):\n",
    "    songs_per_session = df.sort_values(by='listening_order').groupby(\"session_id\").head(20)\n",
    "    new_df = songs_per_session.pivot_table(index='session_id', values='song_id', columns=songs_per_session.groupby(\"session_id\").cumcount(), aggfunc='first')\n",
    "    new_df.columns = [f'song_id_{column + 1}' for column in new_df.columns]\n",
    "    new_df = new_df.reset_index()\n",
    "    return new_df\n",
    "diverse_test, diverse_train, diverse_reserve = convert(test_df), convert(train_df), convert(reserve)"
   ]
  },
  {
   "cell_type": "code",
   "execution_count": 10,
   "metadata": {},
   "outputs": [],
   "source": [
    "df_numeric = diverse_test.apply(lambda col: col.astype('category').cat.codes)\n"
   ]
  },
  {
   "cell_type": "code",
   "execution_count": 11,
   "metadata": {},
   "outputs": [
    {
     "data": {
      "text/html": [
       "<div>\n",
       "<style scoped>\n",
       "    .dataframe tbody tr th:only-of-type {\n",
       "        vertical-align: middle;\n",
       "    }\n",
       "\n",
       "    .dataframe tbody tr th {\n",
       "        vertical-align: top;\n",
       "    }\n",
       "\n",
       "    .dataframe thead th {\n",
       "        text-align: right;\n",
       "    }\n",
       "</style>\n",
       "<table border=\"1\" class=\"dataframe\">\n",
       "  <thead>\n",
       "    <tr style=\"text-align: right;\">\n",
       "      <th></th>\n",
       "      <th>song_id_1</th>\n",
       "      <th>song_id_2</th>\n",
       "      <th>song_id_3</th>\n",
       "      <th>song_id_4</th>\n",
       "      <th>song_id_5</th>\n",
       "      <th>session_id</th>\n",
       "    </tr>\n",
       "  </thead>\n",
       "  <tbody>\n",
       "    <tr>\n",
       "      <th>0</th>\n",
       "      <td>9d438f134d1e172892a10a35d00cd48d</td>\n",
       "      <td>4a27803802d6090389507671d8aed6eb</td>\n",
       "      <td>85422f927d88358292985cb319d216fa</td>\n",
       "      <td>9d86e8ea4ee237d367bf8bb93323fae3</td>\n",
       "      <td>e07029ed777503e9427e946fcff1bd7b</td>\n",
       "      <td>8</td>\n",
       "    </tr>\n",
       "    <tr>\n",
       "      <th>1</th>\n",
       "      <td>51bdd277a9ee6a1443a8b5cae566e7a9</td>\n",
       "      <td>a4851048d75f816f705c257332ebd2df</td>\n",
       "      <td>3b8690eaf3cb39ea21cd6ff2b2f477b9</td>\n",
       "      <td>4db1c69e9d0c0ebad400c73904806f9e</td>\n",
       "      <td>c298182fd4b8afc24c62ef27475f1346</td>\n",
       "      <td>9</td>\n",
       "    </tr>\n",
       "    <tr>\n",
       "      <th>2</th>\n",
       "      <td>4ec44d5d87df923f0f2b2067ab212d56</td>\n",
       "      <td>ba684c8314c2fa4d2ef007d2e0aa0f51</td>\n",
       "      <td>faae5069712da4b1b1f5c1537dc86368</td>\n",
       "      <td>df41f9981e56e92d6e13f638f080c65d</td>\n",
       "      <td>8b14a090f88b020f1fdd9ac4fb286576</td>\n",
       "      <td>38</td>\n",
       "    </tr>\n",
       "    <tr>\n",
       "      <th>3</th>\n",
       "      <td>7873629643d3d71732b639e37c381d00</td>\n",
       "      <td>d72310c97fc3cb50ef5bd5811f2b1768</td>\n",
       "      <td>ce9734f7bd15ec793a8ccbf11f08eee1</td>\n",
       "      <td>4daf6a0ea40a622927fa7a8bcf71d07b</td>\n",
       "      <td>febdbc34c0543eb8c2106d8831929d4d</td>\n",
       "      <td>39</td>\n",
       "    </tr>\n",
       "    <tr>\n",
       "      <th>4</th>\n",
       "      <td>4ea1d746b3c657e7260f7f94783d481f</td>\n",
       "      <td>95e2ced9d30a30fde9ea35735da8c43d</td>\n",
       "      <td>5e230b6170b453e0b1acb3e0aa3cf041</td>\n",
       "      <td>d72310c97fc3cb50ef5bd5811f2b1768</td>\n",
       "      <td>598e8b0ec5a34fa596eca8df1e0d0b7a</td>\n",
       "      <td>49</td>\n",
       "    </tr>\n",
       "    <tr>\n",
       "      <th>...</th>\n",
       "      <td>...</td>\n",
       "      <td>...</td>\n",
       "      <td>...</td>\n",
       "      <td>...</td>\n",
       "      <td>...</td>\n",
       "      <td>...</td>\n",
       "    </tr>\n",
       "    <tr>\n",
       "      <th>56061</th>\n",
       "      <td>6428fcf28017fdf5add3fef81197525b</td>\n",
       "      <td>663783403c0e3aabec9fb46e5b7e91a9</td>\n",
       "      <td>541b72a2c4bbd61c499be4b0780b4e68</td>\n",
       "      <td>d5fca7c8ed07689f45843737a995c03a</td>\n",
       "      <td>86d7d1e440c82bbe706fdbad2f0bf109</td>\n",
       "      <td>715248</td>\n",
       "    </tr>\n",
       "    <tr>\n",
       "      <th>56062</th>\n",
       "      <td>5ef21ae99b0ab15ac7d364b8c56a7731</td>\n",
       "      <td>0e0e08eb48fb741f136e6915831fdb32</td>\n",
       "      <td>d67a35f20d2488d0ce2621c3058b7236</td>\n",
       "      <td>4b4ea8653014d02ff611cf67d45d63d4</td>\n",
       "      <td>509db0b501f83c2972e105b7c319a86a</td>\n",
       "      <td>715259</td>\n",
       "    </tr>\n",
       "    <tr>\n",
       "      <th>56063</th>\n",
       "      <td>8a2fc1a4b86c6b79a6186ee6b54d79e0</td>\n",
       "      <td>af894be6f2cec95b9de30b0a128c83bd</td>\n",
       "      <td>3dbeb7f4350afdacfe4ebbf3d314a6e3</td>\n",
       "      <td>c489727635800ce9fa0a5d9f10db0c52</td>\n",
       "      <td>3dbeb7f4350afdacfe4ebbf3d314a6e3</td>\n",
       "      <td>715298</td>\n",
       "    </tr>\n",
       "    <tr>\n",
       "      <th>56064</th>\n",
       "      <td>733265f915bee31b0828d3ec292e57c7</td>\n",
       "      <td>8fe2d77d88b29efcb24abc3b8c7033a8</td>\n",
       "      <td>91fc38adadf43d686b4ced3ffc9f8ec7</td>\n",
       "      <td>a3a92a386ef3123788e3448f90298733</td>\n",
       "      <td>a40bcd6fc6ee237ca935ea5be909e930</td>\n",
       "      <td>715309</td>\n",
       "    </tr>\n",
       "    <tr>\n",
       "      <th>56065</th>\n",
       "      <td>700a3bbe2b689e2da396bee4daafa4b2</td>\n",
       "      <td>7ce1913e1511f3d77da7a0b32e640604</td>\n",
       "      <td>700a3bbe2b689e2da396bee4daafa4b2</td>\n",
       "      <td>bc603ae5839065a50a23592003bf4233</td>\n",
       "      <td>c6cbfaccb4c07120a76da6b9c14e5902</td>\n",
       "      <td>715318</td>\n",
       "    </tr>\n",
       "  </tbody>\n",
       "</table>\n",
       "<p>56066 rows × 6 columns</p>\n",
       "</div>"
      ],
      "text/plain": [
       "                              song_id_1                         song_id_2  \\\n",
       "0      9d438f134d1e172892a10a35d00cd48d  4a27803802d6090389507671d8aed6eb   \n",
       "1      51bdd277a9ee6a1443a8b5cae566e7a9  a4851048d75f816f705c257332ebd2df   \n",
       "2      4ec44d5d87df923f0f2b2067ab212d56  ba684c8314c2fa4d2ef007d2e0aa0f51   \n",
       "3      7873629643d3d71732b639e37c381d00  d72310c97fc3cb50ef5bd5811f2b1768   \n",
       "4      4ea1d746b3c657e7260f7f94783d481f  95e2ced9d30a30fde9ea35735da8c43d   \n",
       "...                                 ...                               ...   \n",
       "56061  6428fcf28017fdf5add3fef81197525b  663783403c0e3aabec9fb46e5b7e91a9   \n",
       "56062  5ef21ae99b0ab15ac7d364b8c56a7731  0e0e08eb48fb741f136e6915831fdb32   \n",
       "56063  8a2fc1a4b86c6b79a6186ee6b54d79e0  af894be6f2cec95b9de30b0a128c83bd   \n",
       "56064  733265f915bee31b0828d3ec292e57c7  8fe2d77d88b29efcb24abc3b8c7033a8   \n",
       "56065  700a3bbe2b689e2da396bee4daafa4b2  7ce1913e1511f3d77da7a0b32e640604   \n",
       "\n",
       "                              song_id_3                         song_id_4  \\\n",
       "0      85422f927d88358292985cb319d216fa  9d86e8ea4ee237d367bf8bb93323fae3   \n",
       "1      3b8690eaf3cb39ea21cd6ff2b2f477b9  4db1c69e9d0c0ebad400c73904806f9e   \n",
       "2      faae5069712da4b1b1f5c1537dc86368  df41f9981e56e92d6e13f638f080c65d   \n",
       "3      ce9734f7bd15ec793a8ccbf11f08eee1  4daf6a0ea40a622927fa7a8bcf71d07b   \n",
       "4      5e230b6170b453e0b1acb3e0aa3cf041  d72310c97fc3cb50ef5bd5811f2b1768   \n",
       "...                                 ...                               ...   \n",
       "56061  541b72a2c4bbd61c499be4b0780b4e68  d5fca7c8ed07689f45843737a995c03a   \n",
       "56062  d67a35f20d2488d0ce2621c3058b7236  4b4ea8653014d02ff611cf67d45d63d4   \n",
       "56063  3dbeb7f4350afdacfe4ebbf3d314a6e3  c489727635800ce9fa0a5d9f10db0c52   \n",
       "56064  91fc38adadf43d686b4ced3ffc9f8ec7  a3a92a386ef3123788e3448f90298733   \n",
       "56065  700a3bbe2b689e2da396bee4daafa4b2  bc603ae5839065a50a23592003bf4233   \n",
       "\n",
       "                              song_id_5  session_id  \n",
       "0      e07029ed777503e9427e946fcff1bd7b           8  \n",
       "1      c298182fd4b8afc24c62ef27475f1346           9  \n",
       "2      8b14a090f88b020f1fdd9ac4fb286576          38  \n",
       "3      febdbc34c0543eb8c2106d8831929d4d          39  \n",
       "4      598e8b0ec5a34fa596eca8df1e0d0b7a          49  \n",
       "...                                 ...         ...  \n",
       "56061  86d7d1e440c82bbe706fdbad2f0bf109      715248  \n",
       "56062  509db0b501f83c2972e105b7c319a86a      715259  \n",
       "56063  3dbeb7f4350afdacfe4ebbf3d314a6e3      715298  \n",
       "56064  a40bcd6fc6ee237ca935ea5be909e930      715309  \n",
       "56065  c6cbfaccb4c07120a76da6b9c14e5902      715318  \n",
       "\n",
       "[56066 rows x 6 columns]"
      ]
     },
     "execution_count": 11,
     "metadata": {},
     "output_type": "execute_result"
    }
   ],
   "source": [
    "def process_row(row):\n",
    "    curr_id = row['session_id']\n",
    "    next_data = diverse_reserve.loc[diverse_reserve['session_id'] == (curr_id + 1), diverse_reserve.columns[1: 6]]\n",
    "    next_data['session_id'] = curr_id\n",
    "    return next_data\n",
    "combined_data = excluded_20_id.apply(process_row, axis=1)\n",
    "combined_data = pd.concat(combined_data.to_list(), axis=0, ignore_index=True)\n",
    "combined_data"
   ]
  },
  {
   "cell_type": "code",
   "execution_count": 12,
   "metadata": {},
   "outputs": [],
   "source": [
    "merged_df = excluded_20_id.merge(combined_data, on='session_id', how='left')\n",
    "merged_df.columns = [i for i in sample_df.columns]"
   ]
  },
  {
   "cell_type": "markdown",
   "metadata": {},
   "source": [
    "# Concatenation"
   ]
  },
  {
   "cell_type": "code",
   "execution_count": 13,
   "metadata": {},
   "outputs": [],
   "source": [
    "concatenated_df = pd.concat([mostPlayed_combined, same_df], axis=0)"
   ]
  },
  {
   "cell_type": "code",
   "execution_count": 14,
   "metadata": {},
   "outputs": [],
   "source": [
    "\n",
    "diverse_test[~diverse_test['session_id'].isin(concatenated_df['session_id'])].to_csv(\"excluded_data.csv\", index=False)\n",
    "concatenated_df.to_csv(\"included_data.csv\", index=False)"
   ]
  }
 ],
 "metadata": {
  "kernelspec": {
   "display_name": "base",
   "language": "python",
   "name": "python3"
  },
  "language_info": {
   "codemirror_mode": {
    "name": "ipython",
    "version": 3
   },
   "file_extension": ".py",
   "mimetype": "text/x-python",
   "name": "python",
   "nbconvert_exporter": "python",
   "pygments_lexer": "ipython3",
   "version": "3.10.11"
  }
 },
 "nbformat": 4,
 "nbformat_minor": 2
}
